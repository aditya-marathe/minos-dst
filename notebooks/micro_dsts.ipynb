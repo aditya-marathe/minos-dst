{
 "cells": [
  {
   "cell_type": "markdown",
   "metadata": {},
   "source": [
    "# $\\mu\\text{DSTs}$"
   ]
  },
  {
   "cell_type": "markdown",
   "metadata": {},
   "source": [
    "### Set-up"
   ]
  },
  {
   "cell_type": "code",
   "execution_count": 1,
   "metadata": {},
   "outputs": [],
   "source": [
    "import os\n",
    "\n",
    "import uproot\n",
    "from uproot.reading import ReadOnlyDirectory\n",
    "from uproot.behaviors.TBranch import HasBranches\n",
    "\n",
    "import matplotlib.pyplot as plt\n",
    "from matplotlib.axes import Axes\n",
    "\n",
    "import numpy as np\n",
    "import numpy.typing as npt\n",
    "\n",
    "import ipywidgets\n",
    "from ipywidgets import interact\n",
    "\n",
    "%matplotlib inline"
   ]
  },
  {
   "cell_type": "markdown",
   "metadata": {},
   "source": [
    "### Functions"
   ]
  },
  {
   "cell_type": "code",
   "execution_count": 2,
   "metadata": {},
   "outputs": [],
   "source": [
    "def plot_th1f(\n",
    "        data: ReadOnlyDirectory | HasBranches,\n",
    "        key: str,\n",
    "        axs: Axes,\n",
    "        xlabel: str = '',\n",
    "        ylabel: str = 'Frequency'\n",
    "    ) -> tuple[npt.NDArray, npt.NDArray]:\n",
    "    \"\"\"\\\n",
    "    Plots a TH1F histogram for a given key from the MicroDST.\n",
    "\n",
    "    Parameters\n",
    "    ----------\n",
    "    key: str\n",
    "        The key for the TH1F histogram to be plotted.\n",
    "    axs: Axes\n",
    "        The target axes of the plot.\n",
    "    xlabel: str\n",
    "        The label for the x-axis. (Optional)\n",
    "    ylabel: str\n",
    "        The label for the y-axis. (Optional)\n",
    "\n",
    "    Returns\n",
    "    -------\n",
    "    Axes\n",
    "        The axes of the plot.\n",
    "\n",
    "    \"\"\"\n",
    "    ax.cla()\n",
    "    \n",
    "    # Convert the TH1F to NumPy arrays...\n",
    "    # Note: Linter is freaking out again :( ignore the red lines.\n",
    "    values, bins = data[key].to_numpy()\n",
    "\n",
    "    if not values.any():\n",
    "        print(f'No values to plot for key \\'{key}\\'!')\n",
    "        return values, bins\n",
    "\n",
    "    axs.hist(values, bins=bins)\n",
    "\n",
    "    axs.set_xlabel(xlabel)\n",
    "    axs.set_ylabel(ylabel)\n",
    "\n",
    "    axs.set_title(f'Key: \\'{key}\\'')\n",
    "\n",
    "    return values, bins"
   ]
  },
  {
   "cell_type": "markdown",
   "metadata": {},
   "source": [
    "### Opening files"
   ]
  },
  {
   "cell_type": "code",
   "execution_count": 3,
   "metadata": {},
   "outputs": [],
   "source": [
    "data = uproot.open(path=os.environ['M_2010_R1_F_21035000'])"
   ]
  },
  {
   "cell_type": "code",
   "execution_count": null,
   "metadata": {},
   "outputs": [],
   "source": [
    "# Note: Linter keeps freaking out...\n",
    "# Pylance - Cannot access attribute \"classnames\" for class \"HasBranches\"\n",
    "\n",
    "# .classnames() returns a list of all branches and their types.\n",
    "# Possible types:\n",
    "#   1. TH1F = 1d Histogram with a float per channel (with a maximum of 7 digit \n",
    "#      precision).\n",
    "#   2. TH1I = 1d Histogram with an int per channel.\n",
    "#   3. TTree = Tree / Columnar dataset.\n",
    "\n",
    "names_dict = data.classnames()\n",
    "\n",
    "names_dict"
   ]
  },
  {
   "cell_type": "code",
   "execution_count": null,
   "metadata": {},
   "outputs": [],
   "source": [
    "type(data.classnames()['hDetector;1'])"
   ]
  },
  {
   "cell_type": "code",
   "execution_count": 6,
   "metadata": {},
   "outputs": [],
   "source": [
    "classnames: list[str] = list(data.classnames().keys())\n",
    "histograms: list[str] = [\n",
    "    key for key in names_dict.keys() if names_dict[key].startswith('TH1')\n",
    "]"
   ]
  },
  {
   "cell_type": "code",
   "execution_count": null,
   "metadata": {},
   "outputs": [],
   "source": [
    "fig, ax = plt.subplots()\n",
    "\n",
    "plot_th1f(data=data, key=histograms[4], axs=ax);"
   ]
  },
  {
   "cell_type": "code",
   "execution_count": 46,
   "metadata": {},
   "outputs": [],
   "source": [
    "# data['s;1'].show()"
   ]
  },
  {
   "cell_type": "code",
   "execution_count": 26,
   "metadata": {},
   "outputs": [],
   "source": [
    "# data['mc;1'].show()"
   ]
  },
  {
   "cell_type": "code",
   "execution_count": 47,
   "metadata": {},
   "outputs": [],
   "source": [
    "data['s;1']['s/energy'].arrays(library='np')['energy'];"
   ]
  },
  {
   "cell_type": "code",
   "execution_count": null,
   "metadata": {},
   "outputs": [],
   "source": [
    "plt.hist(\n",
    "    data['s;1']['s/energy'].arrays(library='np')['energy'],\n",
    "    bins=np.linspace(0, 20, 50)\n",
    ");"
   ]
  },
  {
   "cell_type": "code",
   "execution_count": null,
   "metadata": {},
   "outputs": [],
   "source": []
  }
 ],
 "metadata": {
  "kernelspec": {
   "display_name": ".venv",
   "language": "python",
   "name": "python3"
  },
  "language_info": {
   "codemirror_mode": {
    "name": "ipython",
    "version": 3
   },
   "file_extension": ".py",
   "mimetype": "text/x-python",
   "name": "python",
   "nbconvert_exporter": "python",
   "pygments_lexer": "ipython3",
   "version": "3.10.11"
  }
 },
 "nbformat": 4,
 "nbformat_minor": 2
}
