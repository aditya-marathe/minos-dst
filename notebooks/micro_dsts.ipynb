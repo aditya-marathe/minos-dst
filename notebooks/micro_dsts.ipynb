{
 "cells": [
  {
   "cell_type": "markdown",
   "metadata": {},
   "source": [
    "# $\\mu\\text{DSTs}$"
   ]
  },
  {
   "cell_type": "markdown",
   "metadata": {},
   "source": [
    "### Set-up"
   ]
  },
  {
   "cell_type": "code",
   "execution_count": 25,
   "metadata": {},
   "outputs": [],
   "source": [
    "import os\n",
    "\n",
    "import uproot\n",
    "from uproot.reading import ReadOnlyDirectory\n",
    "from uproot.behaviors.TBranch import HasBranches\n",
    "\n",
    "import matplotlib.pyplot as plt\n",
    "from matplotlib.axes import Axes\n",
    "\n",
    "import numpy as np\n",
    "import numpy.typing as npt\n",
    "\n",
    "import pandas as pd\n",
    "# import awkward_pandas as apd\n",
    "# import awkward as ak\n",
    "\n",
    "# import ipywidgets\n",
    "# from ipywidgets import interact\n",
    "\n",
    "%matplotlib inline"
   ]
  },
  {
   "cell_type": "markdown",
   "metadata": {},
   "source": [
    "### Functions"
   ]
  },
  {
   "cell_type": "code",
   "execution_count": 2,
   "metadata": {},
   "outputs": [],
   "source": [
    "def plot_th1f(\n",
    "        data: ReadOnlyDirectory | HasBranches,\n",
    "        key: str,\n",
    "        axs: Axes,\n",
    "        xlabel: str = '',\n",
    "        ylabel: str = 'Frequency'\n",
    "    ) -> tuple[npt.NDArray, npt.NDArray]:\n",
    "    \"\"\"\\\n",
    "    Plots a TH1F histogram for a given key from the MicroDST.\n",
    "\n",
    "    Parameters\n",
    "    ----------\n",
    "    key: str\n",
    "        The key for the TH1F histogram to be plotted.\n",
    "    axs: Axes\n",
    "        The target axes of the plot.\n",
    "    xlabel: str\n",
    "        The label for the x-axis. (Optional)\n",
    "    ylabel: str\n",
    "        The label for the y-axis. (Optional)\n",
    "\n",
    "    Returns\n",
    "    -------\n",
    "    Axes\n",
    "        The axes of the plot.\n",
    "\n",
    "    \"\"\"\n",
    "    ax.cla()\n",
    "    \n",
    "    # Convert the TH1F to NumPy arrays...\n",
    "    # Note: Linter is freaking out again :( ignore the red lines.\n",
    "    values, bins = data[key].to_numpy()\n",
    "\n",
    "    if not values.any():\n",
    "        print(f'No values to plot for key \\'{key}\\'!')\n",
    "        return values, bins\n",
    "\n",
    "    axs.hist(values, bins=bins)\n",
    "\n",
    "    axs.set_xlabel(xlabel)\n",
    "    axs.set_ylabel(ylabel)\n",
    "\n",
    "    axs.set_title(f'Key: \\'{key}\\'')\n",
    "\n",
    "    return values, bins"
   ]
  },
  {
   "cell_type": "markdown",
   "metadata": {},
   "source": [
    "### Opening files"
   ]
  },
  {
   "cell_type": "code",
   "execution_count": 3,
   "metadata": {},
   "outputs": [],
   "source": [
    "data = uproot.open(path=os.environ['M_2010_R1_F_21035000'])"
   ]
  },
  {
   "cell_type": "code",
   "execution_count": null,
   "metadata": {},
   "outputs": [],
   "source": [
    "# Note: Linter keeps freaking out...\n",
    "# Pylance - Cannot access attribute \"classnames\" for class \"HasBranches\"\n",
    "\n",
    "# .classnames() returns a list of all branches and their types.\n",
    "# Possible types:\n",
    "#   1. TH1F = 1d Histogram with a float per channel (with a maximum of 7 digit \n",
    "#      precision).\n",
    "#   2. TH1I = 1d Histogram with an int per channel.\n",
    "#   3. TTree = Tree / Columnar dataset.\n",
    "\n",
    "names_dict = data.classnames()\n",
    "\n",
    "names_dict"
   ]
  },
  {
   "cell_type": "code",
   "execution_count": null,
   "metadata": {},
   "outputs": [],
   "source": [
    "type(data.classnames()['hDetector;1'])"
   ]
  },
  {
   "cell_type": "code",
   "execution_count": 6,
   "metadata": {},
   "outputs": [],
   "source": [
    "classnames: list[str] = list(data.classnames().keys())\n",
    "histograms: list[str] = [\n",
    "    key for key in names_dict.keys() if names_dict[key].startswith('TH1')\n",
    "]"
   ]
  },
  {
   "cell_type": "code",
   "execution_count": 77,
   "metadata": {},
   "outputs": [],
   "source": [
    "# fig, ax = plt.subplots()\n",
    "# \n",
    "# plot_th1f(data=data, key=histograms[4], axs=ax);"
   ]
  },
  {
   "cell_type": "code",
   "execution_count": null,
   "metadata": {},
   "outputs": [],
   "source": [
    "# data['s;1'].show()"
   ]
  },
  {
   "cell_type": "code",
   "execution_count": 52,
   "metadata": {},
   "outputs": [],
   "source": [
    "# data['mc;1'].show()  # -> Confusingly 's;1' also contains 'mc;1' data?"
   ]
  },
  {
   "cell_type": "markdown",
   "metadata": {},
   "source": [
    "### Making plots"
   ]
  },
  {
   "cell_type": "code",
   "execution_count": 10,
   "metadata": {},
   "outputs": [],
   "source": [
    "data['s;1']['s/energy'].arrays(library='np')['energy'];"
   ]
  },
  {
   "cell_type": "code",
   "execution_count": 27,
   "metadata": {},
   "outputs": [],
   "source": [
    "df = data['s;1'].arrays(library='pd')"
   ]
  },
  {
   "cell_type": "code",
   "execution_count": null,
   "metadata": {},
   "outputs": [],
   "source": [
    "_, ax = plt.subplots()\n",
    "\n",
    "ax.hist(\n",
    "    df['energy'],\n",
    "    bins=np.linspace(0, 20, 36 + 1),\n",
    "    alpha=0.5,\n",
    "    label='Energy'\n",
    ")\n",
    "\n",
    "ax.hist(\n",
    "    df['energyCC'],\n",
    "    bins=np.linspace(0, 20, 36 + 1),\n",
    "    alpha=0.5,\n",
    "    label='EnergyCC'\n",
    ")\n",
    "\n",
    "ax.hist(\n",
    "    df['energyNC'],\n",
    "    bins=np.linspace(0, 20, 36 + 1),\n",
    "    alpha=0.5,\n",
    "    label='EnergyNC'\n",
    ")\n",
    "\n",
    "ax.hist(\n",
    "    df['energyRM'],\n",
    "    bins=np.linspace(0, 20, 50 + 1),\n",
    "    alpha=0.5,\n",
    "    label='EnergyRM'\n",
    ")\n",
    "\n",
    "ax.hist(\n",
    "    df['energyMC'],\n",
    "    bins=np.linspace(0, 20, 50 + 1),\n",
    "    alpha=0.5,\n",
    "    label='EnergyMC'\n",
    ")\n",
    "\n",
    "ax.set_xlabel('Energy [GeV]')\n",
    "ax.set_ylabel('Interactions / GeV')\n",
    "\n",
    "ax.set_title('s;1 (No cuts)')\n",
    "\n",
    "ax.legend();"
   ]
  },
  {
   "cell_type": "code",
   "execution_count": null,
   "metadata": {},
   "outputs": [],
   "source": [
    "_, ax = plt.subplots()\n",
    "\n",
    "cut_df = df[df['isInFidVolCC'] & df['isGoodDataQuality']]\n",
    "\n",
    "ax.hist(\n",
    "    cut_df['energyMC'],\n",
    "    bins=np.linspace(0, 20, 36 + 1),\n",
    "    alpha=0.5,\n",
    "    label='MC Energy'\n",
    ")\n",
    "\n",
    "ax.hist(\n",
    "    cut_df['energy'],\n",
    "    bins=np.linspace(0, 20, 36 + 1),\n",
    "    alpha=0.5,\n",
    "    label='Energy'\n",
    ")\n",
    "\n",
    "ax.set_xlabel('Energy [GeV]')\n",
    "ax.set_ylabel('Interactions / GeV')\n",
    "\n",
    "ax.set_title('s;1 (Quality + containment cuts)')\n",
    "\n",
    "ax.legend();"
   ]
  },
  {
   "cell_type": "code",
   "execution_count": null,
   "metadata": {},
   "outputs": [],
   "source": [
    "_, ax = plt.subplots()\n",
    "\n",
    "cut_df = df[df['isInFidVolCC'] & df['isGoodDataQuality']]\n",
    "\n",
    "est_err = (cut_df['energy'] - cut_df['energyMC']) / cut_df['energyMC']\n",
    "\n",
    "ax.hist(\n",
    "    est_err,\n",
    "    bins=np.linspace(-1, 1, 36 + 1),\n",
    "    alpha=0.5\n",
    ")\n",
    "\n",
    "ax.set_xlabel('Energy [GeV]')\n",
    "ax.set_ylabel('Interactions / GeV')\n",
    "\n",
    "ax.set_title('s;1 (Quality + containment cuts) - Energy Estimation Errors');"
   ]
  },
  {
   "cell_type": "code",
   "execution_count": null,
   "metadata": {},
   "outputs": [],
   "source": [
    "_, ax = plt.subplots()\n",
    "\n",
    "cut_df = df[~df['isInFidVolCC'] & df['isGoodDataQuality']]\n",
    "\n",
    "ax.hist(\n",
    "    cut_df['energyMC'],\n",
    "    bins=np.linspace(0, 20, 36 + 1),\n",
    "    alpha=0.5,\n",
    "    label='MC Energy'\n",
    ")\n",
    "\n",
    "ax.hist(\n",
    "    cut_df['energy'],\n",
    "    bins=np.linspace(0, 20, 36 + 1),\n",
    "    alpha=0.5,\n",
    "    label='Energy'\n",
    ")\n",
    "\n",
    "ax.set_xlabel('Energy [GeV]')\n",
    "ax.set_ylabel('Interactions / GeV')\n",
    "\n",
    "ax.set_title('s;1 (Quality + non-contained cuts)')\n",
    "\n",
    "ax.legend();"
   ]
  },
  {
   "cell_type": "markdown",
   "metadata": {},
   "source": [
    "As expected, energy is underestimated for poorly contained events."
   ]
  },
  {
   "cell_type": "code",
   "execution_count": null,
   "metadata": {},
   "outputs": [],
   "source": [
    "_, ax = plt.subplots()\n",
    "\n",
    "cut_df = df[~df['isInFidVolCC'] & df['isGoodDataQuality']]\n",
    "\n",
    "est_err = (cut_df['energy'] - cut_df['energyMC']) / cut_df['energyMC']\n",
    "\n",
    "ax.hist(\n",
    "    est_err,\n",
    "    bins=np.linspace(-1, 1, 36 + 1),\n",
    "    alpha=0.5\n",
    ")\n",
    "\n",
    "ax.set_xlabel('Energy [GeV]')\n",
    "ax.set_ylabel('Interactions / GeV')\n",
    "\n",
    "ax.set_title('s;1 (Quality + bon-contained cuts) - Energy Estimation Errors');"
   ]
  },
  {
   "cell_type": "code",
   "execution_count": null,
   "metadata": {},
   "outputs": [],
   "source": []
  }
 ],
 "metadata": {
  "kernelspec": {
   "display_name": ".venv",
   "language": "python",
   "name": "python3"
  },
  "language_info": {
   "codemirror_mode": {
    "name": "ipython",
    "version": 3
   },
   "file_extension": ".py",
   "mimetype": "text/x-python",
   "name": "python",
   "nbconvert_exporter": "python",
   "pygments_lexer": "ipython3",
   "version": "3.10.11"
  }
 },
 "nbformat": 4,
 "nbformat_minor": 2
}
